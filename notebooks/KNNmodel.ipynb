{
 "cells": [
  {
   "cell_type": "code",
   "execution_count": 1,
   "metadata": {},
   "outputs": [],
   "source": [
    "import sys\n",
    "import os\n",
    "sys.path.append(os.path.abspath(\"../src\"))\n",
    "\n",
    "import pandas as pd\n",
    "from sklearn.preprocessing import OneHotEncoder, MinMaxScaler\n",
    "from preprocessing import preprocess_data\n"
   ]
  },
  {
   "cell_type": "code",
   "execution_count": 2,
   "metadata": {},
   "outputs": [
    {
     "name": "stdout",
     "output_type": "stream",
     "text": [
      "Preprocessing Completed. Data saved as processed_data.csv in data folder.\n"
     ]
    }
   ],
   "source": [
    "dataset_path = \"../data/used_device_data.csv\"\n",
    "df = preprocess_data(dataset_path)\n",
    "df.to_csv(\"../data/processed_data.csv\", index=False)\n",
    "print(\"Preprocessing Completed. Data saved as processed_data.csv in data folder.\")"
   ]
  },
  {
   "cell_type": "code",
   "execution_count": 3,
   "metadata": {},
   "outputs": [
    {
     "name": "stdout",
     "output_type": "stream",
     "text": [
      "Data Loaded. Here is the summary:\n",
      "<class 'pandas.core.frame.DataFrame'>\n",
      "RangeIndex: 3454 entries, 0 to 3453\n",
      "Data columns (total 49 columns):\n",
      " #   Column                   Non-Null Count  Dtype  \n",
      "---  ------                   --------------  -----  \n",
      " 0   screen_size              3454 non-null   float64\n",
      " 1   4g                       3454 non-null   int64  \n",
      " 2   5g                       3454 non-null   int64  \n",
      " 3   rear_camera_mp           3454 non-null   float64\n",
      " 4   front_camera_mp          3454 non-null   float64\n",
      " 5   internal_memory          3454 non-null   float64\n",
      " 6   ram                      3454 non-null   float64\n",
      " 7   battery                  3454 non-null   float64\n",
      " 8   weight                   3454 non-null   float64\n",
      " 9   release_year             3454 non-null   float64\n",
      " 10  days_used                3454 non-null   float64\n",
      " 11  normalized_used_price    3454 non-null   float64\n",
      " 12  normalized_new_price     3454 non-null   float64\n",
      " 13  device_brand_Alcatel     3454 non-null   int64  \n",
      " 14  device_brand_Apple       3454 non-null   int64  \n",
      " 15  device_brand_Asus        3454 non-null   int64  \n",
      " 16  device_brand_BlackBerry  3454 non-null   int64  \n",
      " 17  device_brand_Celkon      3454 non-null   int64  \n",
      " 18  device_brand_Coolpad     3454 non-null   int64  \n",
      " 19  device_brand_Gionee      3454 non-null   int64  \n",
      " 20  device_brand_Google      3454 non-null   int64  \n",
      " 21  device_brand_HTC         3454 non-null   int64  \n",
      " 22  device_brand_Honor       3454 non-null   int64  \n",
      " 23  device_brand_Huawei      3454 non-null   int64  \n",
      " 24  device_brand_Infinix     3454 non-null   int64  \n",
      " 25  device_brand_Karbonn     3454 non-null   int64  \n",
      " 26  device_brand_LG          3454 non-null   int64  \n",
      " 27  device_brand_Lava        3454 non-null   int64  \n",
      " 28  device_brand_Lenovo      3454 non-null   int64  \n",
      " 29  device_brand_Meizu       3454 non-null   int64  \n",
      " 30  device_brand_Micromax    3454 non-null   int64  \n",
      " 31  device_brand_Microsoft   3454 non-null   int64  \n",
      " 32  device_brand_Motorola    3454 non-null   int64  \n",
      " 33  device_brand_Nokia       3454 non-null   int64  \n",
      " 34  device_brand_OnePlus     3454 non-null   int64  \n",
      " 35  device_brand_Oppo        3454 non-null   int64  \n",
      " 36  device_brand_Others      3454 non-null   int64  \n",
      " 37  device_brand_Panasonic   3454 non-null   int64  \n",
      " 38  device_brand_Realme      3454 non-null   int64  \n",
      " 39  device_brand_Samsung     3454 non-null   int64  \n",
      " 40  device_brand_Sony        3454 non-null   int64  \n",
      " 41  device_brand_Spice       3454 non-null   int64  \n",
      " 42  device_brand_Vivo        3454 non-null   int64  \n",
      " 43  device_brand_XOLO        3454 non-null   int64  \n",
      " 44  device_brand_Xiaomi      3454 non-null   int64  \n",
      " 45  device_brand_ZTE         3454 non-null   int64  \n",
      " 46  os_Others                3454 non-null   int64  \n",
      " 47  os_Windows               3454 non-null   int64  \n",
      " 48  os_iOS                   3454 non-null   int64  \n",
      "dtypes: float64(11), int64(38)\n",
      "memory usage: 1.3 MB\n"
     ]
    }
   ],
   "source": [
    "processed_df = pd.read_csv('../data/processed_data.csv')\n",
    "print(\"Data Loaded. Here is the summary:\")\n",
    "processed_df.info()"
   ]
  },
  {
   "cell_type": "markdown",
   "metadata": {},
   "source": [
    "model"
   ]
  },
  {
   "cell_type": "code",
   "execution_count": 4,
   "metadata": {},
   "outputs": [],
   "source": [
    "from sklearn.model_selection import train_test_split\n",
    "from model import KNN_model\n",
    "\n",
    "X = processed_df.drop(columns=[\"normalized_used_price\"]).values\n",
    "y = processed_df[\"normalized_used_price\"].values\n",
    "\n",
    "X_train, X_test, y_train, y_test = train_test_split(X, y, test_size=0.2, random_state=42)\n"
   ]
  },
  {
   "cell_type": "code",
   "execution_count": 5,
   "metadata": {},
   "outputs": [],
   "source": [
    "knn = KNN_model(n_neighbors=5)\n",
    "knn.train(X_train, y_train)"
   ]
  },
  {
   "cell_type": "code",
   "execution_count": 6,
   "metadata": {},
   "outputs": [
    {
     "name": "stdout",
     "output_type": "stream",
     "text": [
      "Evaluation Metrics: {'Model': 'KNN', 'RMSE': np.float64(0.30084691825148935), 'MAE': 0.22849334858147613}\n"
     ]
    }
   ],
   "source": [
    "results = knn.evaluate(X_test, y_test)\n",
    "print(\"Evaluation Metrics:\", results)"
   ]
  },
  {
   "cell_type": "code",
   "execution_count": 7,
   "metadata": {},
   "outputs": [
    {
     "name": "stdout",
     "output_type": "stream",
     "text": [
      "\n",
      "Sample Predictions:\n",
      "Sample 1 - Predicted Value: 3.8391, Actual Value: 3.9742\n",
      "Sample 2 - Predicted Value: 4.9768, Actual Value: 5.0012\n",
      "Sample 3 - Predicted Value: 4.5601, Actual Value: 4.5621\n",
      "Sample 4 - Predicted Value: 4.1877, Actual Value: 4.1762\n",
      "Sample 5 - Predicted Value: 3.7158, Actual Value: 3.1561\n",
      "Sample 6 - Predicted Value: 4.4018, Actual Value: 3.7771\n",
      "Sample 7 - Predicted Value: 4.5167, Actual Value: 4.9329\n",
      "Sample 8 - Predicted Value: 5.0066, Actual Value: 5.1209\n",
      "Sample 9 - Predicted Value: 3.9011, Actual Value: 4.0441\n",
      "Sample 10 - Predicted Value: 4.4217, Actual Value: 4.3187\n"
     ]
    }
   ],
   "source": [
    "print(\"\\nSample Predictions:\")\n",
    "for i in range(10):\n",
    "    sample_data = X_test[i].reshape(1, -1)\n",
    "    predicted_value = knn.predict(sample_data)[0]\n",
    "    actual_value = y_test[i]\n",
    "    print(f\"Sample {i+1} - Predicted Value: {predicted_value:.4f}, Actual Value: {actual_value:.4f}\")"
   ]
  }
 ],
 "metadata": {
  "kernelspec": {
   "display_name": "Python 3",
   "language": "python",
   "name": "python3"
  },
  "language_info": {
   "codemirror_mode": {
    "name": "ipython",
    "version": 3
   },
   "file_extension": ".py",
   "mimetype": "text/x-python",
   "name": "python",
   "nbconvert_exporter": "python",
   "pygments_lexer": "ipython3",
   "version": "3.11.9"
  }
 },
 "nbformat": 4,
 "nbformat_minor": 2
}
